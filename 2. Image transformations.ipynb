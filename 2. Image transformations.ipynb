{
 "cells": [
  {
   "cell_type": "markdown",
   "id": "48589bbf",
   "metadata": {},
   "source": []
  },
  {
   "cell_type": "markdown",
   "id": "ec3ddf83",
   "metadata": {},
   "source": []
  },
  {
   "cell_type": "markdown",
   "id": "d1729b1f",
   "metadata": {},
   "source": [
    "The general form of the affine transformation matrix is:\n",
    "\n",
    "$$\n",
    "M = \n",
    "\\begin{bmatrix}\n",
    "a & b & t_x \\\\\n",
    "c & d & t_y \n",
    "\\end{bmatrix}\n",
    "$$\n",
    "Where:\n",
    "\n",
    "$a, b, c, d$ --> Control rotation, scaling, and shearing.\n",
    "$t_x, t_y$ --> Control translation (shift in $X$ and $Y$ directions).\n",
    "\n",
    "- <b>Translation</b> $(t_x, t_y)$ shifts the image $t_x$ pixels horizontally and $t_y$ pixels vertically\n",
    "- <b>Scaling</b> $(a, d)$ resizes the image $a$ pixels horizontally and $b$ pixels vertically\n",
    "- <b>Rotation</b> $(a, b, c, d)$ where $a = \\cos\\theta$, $b = -\\sin\\theta$, $c = \\sin\\theta$ and $d = \\cos\\theta$ rotates the image by an angle $\\theta$\n",
    "- <b>Shearing (Skewing)</b> $(b, c)$ tilts the image along $X$ or $Y$ axis, also referred to as $X$-shearing ($sh_x$) and $Y$-shearing ($sh_y$), respectively."
   ]
  },
  {
   "cell_type": "code",
   "execution_count": 1,
   "id": "a3c50ae2",
   "metadata": {},
   "outputs": [],
   "source": [
    "import numpy as np\n",
    "import cv2 as cv"
   ]
  },
  {
   "cell_type": "code",
   "execution_count": 2,
   "id": "6e14fa37",
   "metadata": {},
   "outputs": [
    {
     "name": "stdout",
     "output_type": "stream",
     "text": [
      "Height: 735, width: 1100 and channels: 3\n"
     ]
    }
   ],
   "source": [
    "img = cv.imread(\"road.jpg\")\n",
    "h0, w0, c = img.shape\n",
    "print(f\"Height: {h0}, width: {w0} and channels: {c}\")"
   ]
  },
  {
   "cell_type": "markdown",
   "id": "d2e8a6fa",
   "metadata": {},
   "source": [
    "<h3>Translation</h3>\n",
    "\n",
    "<p>Image translation is a geometric transformation that shifts an image in the X and/or Y direction (rectilinear shift of an image from one location to another). It moves every pixel of the image by a specified number of pixels horizontally and vertically. This is useful for tasks like data augmentation, image alignment, or creating panning effects.</p>"
   ]
  },
  {
   "cell_type": "code",
   "execution_count": 3,
   "id": "e868f9bb",
   "metadata": {},
   "outputs": [
    {
     "data": {
      "text/plain": [
       "<function destroyAllWindows>"
      ]
     },
     "execution_count": 3,
     "metadata": {},
     "output_type": "execute_result"
    }
   ],
   "source": [
    "new_w = w0 #+ 100  # Add tx\n",
    "new_h = h0 #+ 50   # Add ty\n",
    "\n",
    "M = np.float32([[1, 0, 100],[0, 1, 50]])\n",
    "dst = cv.warpAffine(img, M, (new_w, new_h))\n",
    "cv.imshow('img', dst)\n",
    "cv.waitKey(0)\n",
    "cv.destroyAllWindows"
   ]
  },
  {
   "cell_type": "markdown",
   "id": "01d2c038",
   "metadata": {},
   "source": [
    "In the code above:\n",
    "\n",
    "A $2 \\times 3$ affine transformation matrix of type float32 is defined\n",
    "\n",
    "The matrix is structured as:\n",
    "$$\n",
    "\\begin{bmatrix}\n",
    "1 & 0 & t_x \\\\\n",
    "0 & 1 & t_y \n",
    "\\end{bmatrix}\n",
    "$$\n",
    "where $t_x = 100$ and $t_y = 50$."
   ]
  },
  {
   "cell_type": "markdown",
   "id": "ab552eb2",
   "metadata": {},
   "source": [
    "<h3> Rotation</h3>\n",
    "\n",
    "<p>Image rotation is a geometric transformation that turns an image around a specified point (called the rotation center) by a given angle. This is useful for tasks like data augmentation (generate rotated versions of training images), image alignment, document alignment (correct skewed scanned documents) and correcting orientation/object detection preprocessing (handle rotated objects).</p>\n",
    "\n",
    "<p>\n",
    "The rotation transformed is achived by defining the rotation matrix listing rotation point, degree of rotation and the scaling factor:\n",
    "\n",
    "$$\n",
    "\\begin{bmatrix}\n",
    "\\alpha & \\beta & (1−\\alpha) \\cdot center_x − \\beta \\cdot center_y\\\\\n",
    "-\\beta & \\alpha &   \\beta \\cdot center_x + (1−\\alpha) \\cdot center_y\n",
    "\\end{bmatrix}\n",
    "$$\n",
    "\n",
    "where $\\alpha = \\mathrm{scale}\\cdot\\cos\\theta$ and $\\beta = \\mathrm{scale}\\cdot\\sin\\theta$\n",
    "\n",
    "The functions used are as follows:\n",
    "\n",
    "- <b>cv2.getRotationMatrix2D()</b> : takes the rotation point, degree and scaling factor as parameters. It generates a $2 \\times 3$ affine transformation matrix for rotation.  A positive angle rotates the image counter-clockwise, a negative angle rotates it clockwise. The scale factor adjusts the image size. A factor of 1.0 means no scaling\n",
    "- <b>cv2.warpAffine()</b> : applies the rotation transformation.\n",
    "</p>"
   ]
  },
  {
   "cell_type": "code",
   "execution_count": 5,
   "id": "ba117cab",
   "metadata": {},
   "outputs": [],
   "source": [
    "h, w = img.shape[:2]\n",
    "img_rotation = cv.warpAffine(img,\n",
    "                             cv.getRotationMatrix2D((w/2, h/2),\n",
    "                                                    30, 0.6),\n",
    "                             (w, h))\n",
    "cv.imshow('img', img_rotation)\n",
    "cv.waitKey(0)\n",
    "cv.destroyAllWindows()"
   ]
  },
  {
   "cell_type": "markdown",
   "id": "39df9ce0",
   "metadata": {},
   "source": [
    "In the code above the parameters:\n",
    "\n",
    "- (cols/2, rows/2) → Center of rotation (here, the image center).\n",
    "- 30 --> Rotation angle (degrees)\n",
    "- 0.6 --> Scaling factor (resizes the image)."
   ]
  },
  {
   "cell_type": "markdown",
   "id": "bea50ba2",
   "metadata": {},
   "source": [
    "<h3> Cropping</h3>"
   ]
  },
  {
   "cell_type": "code",
   "execution_count": null,
   "id": "c2ffd9c8",
   "metadata": {},
   "outputs": [],
   "source": [
    "cropped_img = img[100:300, 100:300]\n",
    "cv.imshow('img', cropped_img)\n",
    "cv.waitKey(0)\n",
    "cv.destroyAllWindows()"
   ]
  },
  {
   "cell_type": "markdown",
   "id": "3b85267b",
   "metadata": {},
   "source": [
    "<h3>Shearing</h3>\n",
    "\n",
    "<p>Shearing (or skewing) is a geometric transformation that tilts an image along the X-axis (horizontal) or Y-axis (vertical). This creates a slanting effect, similar to pushing the top or side of the image while keeping the opposite side fixed.\n",
    "document correction (fixing skewed scanned documents), data augmentation (generating tilted training images) and computer graphics (creating perspective effects).</p>"
   ]
  },
  {
   "cell_type": "code",
   "execution_count": 4,
   "id": "ec26c41b",
   "metadata": {},
   "outputs": [],
   "source": [
    "img = cv.imread(\"road.jpg\")\n",
    "h, w = img.shape[:2]\n",
    "\n",
    "shear_x = 0.5\n",
    "shear_y = 0\n",
    "M_shear = np.float32([[1,shear_x,0],[shear_y, 1, 0]])\n",
    "sheared_img = cv.warpAffine(img, M_shear, (w, h))\n",
    "\n",
    "cv.imshow('img', sheared_img)\n",
    "cv.waitKey(0)\n",
    "cv.destroyAllWindows()"
   ]
  },
  {
   "cell_type": "code",
   "execution_count": null,
   "id": "c2e9e8ff",
   "metadata": {},
   "outputs": [],
   "source": []
  }
 ],
 "metadata": {
  "kernelspec": {
   "display_name": "venv",
   "language": "python",
   "name": "python3"
  },
  "language_info": {
   "codemirror_mode": {
    "name": "ipython",
    "version": 3
   },
   "file_extension": ".py",
   "mimetype": "text/x-python",
   "name": "python",
   "nbconvert_exporter": "python",
   "pygments_lexer": "ipython3",
   "version": "3.13.5"
  }
 },
 "nbformat": 4,
 "nbformat_minor": 5
}
