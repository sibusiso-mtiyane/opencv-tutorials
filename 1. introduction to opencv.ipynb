{
 "cells": [
  {
   "cell_type": "code",
   "execution_count": 1,
   "id": "30a8c3c9",
   "metadata": {},
   "outputs": [],
   "source": [
    "import cv2"
   ]
  },
  {
   "cell_type": "markdown",
   "id": "930fb654",
   "metadata": {},
   "source": [
    "<h3> Read images and get dimensions </h3>"
   ]
  },
  {
   "cell_type": "code",
   "execution_count": 8,
   "id": "bd3f150b",
   "metadata": {},
   "outputs": [
    {
     "name": "stdout",
     "output_type": "stream",
     "text": [
      "Height: 735, Width: 1100, channels: 3\n"
     ]
    }
   ],
   "source": [
    "# load image using imread() function\n",
    "image = cv2.imread(\"road.jpg\")\n",
    "# Get the dimensions of the image and the number of channels\n",
    "h,w,c = image.shape\n",
    "print(f\"Height: {h}, Width: {w}, channels: {c}\")"
   ]
  },
  {
   "cell_type": "markdown",
   "id": "cfb21faa",
   "metadata": {},
   "source": [
    "<h3> Extracting pixel values</h3>"
   ]
  },
  {
   "cell_type": "code",
   "execution_count": 3,
   "id": "c552e8b9",
   "metadata": {},
   "outputs": [
    {
     "name": "stdout",
     "output_type": "stream",
     "text": [
      "The RGB pixel value at (100, 100) is R: 239, G: 200 and B: 157\n",
      "The RGB pixel value at (100, 100) and channel 0 is B: 157\n"
     ]
    }
   ],
   "source": [
    "# Extracting a pixel value. NB: OpenCV arranges channels in BGR order (not RGB)\n",
    "(B, G, R) = image[100, 100]\n",
    "\n",
    "print(f\"The RGB pixel value at (100, 100) is R: {R}, G: {G} and B: {B}\")\n",
    "\n",
    "# The pixel value  for B =, which corresponds to channel zero (BGR)\n",
    "B = image[100, 100, 0]\n",
    "print(f\"The RGB pixel value at (100, 100) and channel 0 is B: {B}\")"
   ]
  },
  {
   "cell_type": "markdown",
   "id": "37d649b4",
   "metadata": {},
   "source": [
    "<h3> Extracting region of interest</h3>"
   ]
  },
  {
   "cell_type": "code",
   "execution_count": 4,
   "id": "69bc026f",
   "metadata": {},
   "outputs": [],
   "source": [
    "roi = image[100: 300, 200: 500]\n",
    "cv2.imshow(\"roi\", roi)\n",
    "cv2.waitKey(0)\n",
    "cv2.destroyAllWindows()"
   ]
  },
  {
   "cell_type": "markdown",
   "id": "f23c0e78",
   "metadata": {},
   "source": [
    "<h3> Resize image</h3>"
   ]
  },
  {
   "cell_type": "code",
   "execution_count": 5,
   "id": "dcb570e1",
   "metadata": {},
   "outputs": [],
   "source": [
    "# resizing the image resize (reference image, (x, y))\n",
    "resize = cv2.resize(image,(500, 700))\n",
    "cv2.imshow(\"Resized image\", resize)\n",
    "cv2.waitKey(0)\n",
    "cv2.destroyAllWindows()"
   ]
  },
  {
   "cell_type": "code",
   "execution_count": 5,
   "id": "013beb49",
   "metadata": {},
   "outputs": [],
   "source": [
    "# get dimensions of image to determine the ratio\n",
    "h0, w0 = image.shape[:2]\n",
    "\n",
    "#set adjusted width\n",
    "x = 800\n",
    "\n",
    "# Calculating the ratio\n",
    "ratio = x / w0\n",
    "y = int(h0*ratio)\n",
    "\n",
    "# Creating a tuple containing width and height\n",
    "dim = (x, y)\n",
    "\n",
    "# Resizing the image\n",
    "resize_aspect = cv2.resize(image, dim)\n",
    "cv2.imshow(\"Resized Image\", resize_aspect)\n",
    "cv2.waitKey(0)\n",
    "cv2.destroyAllWindows()"
   ]
  },
  {
   "cell_type": "markdown",
   "id": "455ce66e",
   "metadata": {},
   "source": [
    "<h3> Draw rectangle </h3>"
   ]
  },
  {
   "cell_type": "code",
   "execution_count": 6,
   "id": "c9fc5b68",
   "metadata": {},
   "outputs": [],
   "source": [
    "output = image.copy()\n",
    "\n",
    "rectangle = cv2.rectangle(output, (200, 300),(600, 400),(255, 0, 0), 2)\n",
    "cv2.imshow(\"rectangle\", rectangle)\n",
    "cv2.waitKey(0)\n",
    "cv2.destroyAllWindows()"
   ]
  },
  {
   "cell_type": "markdown",
   "id": "1298510e",
   "metadata": {},
   "source": [
    "<h3> Text on image</h3>"
   ]
  },
  {
   "cell_type": "code",
   "execution_count": 7,
   "id": "073a8daf",
   "metadata": {},
   "outputs": [],
   "source": [
    "# Copying the original image\n",
    "output = image.copy()\n",
    "\n",
    "# Adding the text using putText() function\n",
    "text = cv2.putText(output, 'OpenCV Demo', (200, 300), cv2.FONT_HERSHEY_SIMPLEX, 2, (255, 0, 0), 2)\n",
    "\n",
    "cv2.imshow(\"text\", text)\n",
    "cv2.waitKey(0)\n",
    "cv2.destroyAllWindows()"
   ]
  },
  {
   "cell_type": "code",
   "execution_count": null,
   "id": "00b57435",
   "metadata": {},
   "outputs": [],
   "source": []
  }
 ],
 "metadata": {
  "kernelspec": {
   "display_name": "venv",
   "language": "python",
   "name": "python3"
  },
  "language_info": {
   "codemirror_mode": {
    "name": "ipython",
    "version": 3
   },
   "file_extension": ".py",
   "mimetype": "text/x-python",
   "name": "python",
   "nbconvert_exporter": "python",
   "pygments_lexer": "ipython3",
   "version": "3.13.5"
  }
 },
 "nbformat": 4,
 "nbformat_minor": 5
}
